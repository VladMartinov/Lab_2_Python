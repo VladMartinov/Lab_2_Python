{
 "cells": [
  {
   "cell_type": "code",
   "execution_count": null,
   "id": "fdf95ef2",
   "metadata": {},
   "outputs": [],
   "source": [
    "\"\"\"\n",
    "Задание №6.\n",
    "Напишите скрипт reorganize.py, который в директории --source создает\n",
    "две директории: Archive и Small. В первую директорию помещаются\n",
    "файлы с датой изменения, отличающейся от текущей даты на\n",
    "количество дней более параметра --days (т.е. относительно старые\n",
    "файлы). Во вторую – все файлы размером меньше параметра --size байт.\n",
    "Каждая директория должна создаваться только в случае, если найден\n",
    "хотя бы один файл, который должен быть в нее помещен. Пример\n",
    "вызова:\n",
    "\"\"\"\n",
    "\n",
    "import time, sys, os\n",
    "time_Unix = time.time()\n",
    "\n",
    "def reorgaize(argv):\n",
    "    if argv[1] == '--source' and argv[3] == '--days' and argv[5] == '--size':\n",
    "        for _, _, files in os.walk(argv[2]):\n",
    "            for name in files:\n",
    "\n",
    "                path_to_file = argv[2] + f\"\\{name}\"\n",
    "                \n",
    "                try:\n",
    "                    if os.stat(path_to_file).st_size < int(argv[6]):\n",
    "                        dir_name = argv[2] + \"\\Small\"\n",
    "                        try:\n",
    "                            os.mkdir(dir_name)\n",
    "                        except FileExistsError:\n",
    "                            pass\n",
    "                        os.replace(path_to_file, dir_name + f\"\\{name}\")\n",
    "                        continue\n",
    "\n",
    "                    if os.path.getmtime(path_to_file) < (time_Unix - (float(argv[4])*86400)):\n",
    "                        dir_name = argv[2] + \"\\Archive\"\n",
    "                        try:\n",
    "                            os.mkdir(dir_name)\n",
    "                        except FileExistsError:\n",
    "                            pass\n",
    "                        os.replace(path_to_file, dir_name + f\"\\{name}\")\n",
    "                except FileNotFoundError:\n",
    "                    pass\n",
    "\n",
    "                    \n",
    "reorgaize(sys.argv)\n"
   ]
  }
 ],
 "metadata": {
  "kernelspec": {
   "display_name": "Python 3 (ipykernel)",
   "language": "python",
   "name": "python3"
  },
  "language_info": {
   "codemirror_mode": {
    "name": "ipython",
    "version": 3
   },
   "file_extension": ".py",
   "mimetype": "text/x-python",
   "name": "python",
   "nbconvert_exporter": "python",
   "pygments_lexer": "ipython3",
   "version": "3.9.13"
  }
 },
 "nbformat": 4,
 "nbformat_minor": 5
}
