{
 "cells": [
  {
   "cell_type": "code",
   "execution_count": 1,
   "id": "4cf093a1",
   "metadata": {},
   "outputs": [
    {
     "name": "stdout",
     "output_type": "stream",
     "text": [
      "e : 0.066\n",
      "t : 0.0418\n",
      "о : 0.0376\n",
      "a : 0.0357\n",
      "е : 0.0335\n",
      "n : 0.0325\n",
      "r : 0.0316\n",
      "o : 0.0309\n",
      "i : 0.0296\n",
      "s : 0.0277\n",
      "а : 0.0265\n",
      "н : 0.0249\n",
      "и : 0.0249\n",
      "l : 0.0223\n",
      "т : 0.0194\n",
      "с : 0.0188\n",
      "d : 0.0179\n",
      "в : 0.0179\n",
      "c : 0.0175\n",
      "h : 0.0175\n",
      "f : 0.0153\n",
      "л : 0.0153\n",
      "р : 0.0147\n",
      "u : 0.014\n",
      "м : 0.0137\n",
      "д : 0.0128\n",
      "m : 0.0121\n",
      "y : 0.0115\n",
      "p : 0.0112\n",
      "g : 0.0105\n",
      "к : 0.0096\n",
      "п : 0.007\n",
      "w : 0.0064\n",
      "у : 0.0061\n",
      "b : 0.0057\n",
      "б : 0.0057\n",
      "х : 0.0057\n",
      "ы : 0.0054\n",
      "я : 0.0048\n",
      "q : 0.0045\n",
      "v : 0.0041\n",
      "г : 0.0041\n",
      "з : 0.0041\n",
      "ш : 0.0041\n",
      "й : 0.0041\n",
      "k : 0.0038\n",
      "ь : 0.0038\n",
      "ц : 0.0038\n",
      "ч : 0.0032\n",
      "ж : 0.0032\n",
      "z : 0.0016\n",
      "ю : 0.0016\n",
      "э : 0.0016\n",
      "щ : 0.0013\n",
      "ф : 0.001\n",
      "x : 0.0006\n",
      "j : 0.0003\n",
      "ё : 0.0003\n"
     ]
    }
   ],
   "source": [
    "\"\"\"\n",
    "Задание №1.\n",
    "Напишите скрипт, который читает текстовый файл и выводит символы\n",
    "в порядке убывания частоты встречаемости в тексте. Регистр символа\n",
    "не имеет значения. Программа должна учитывать только буквенные\n",
    "символы (символы пунктуации, цифры и служебные символы слудет\n",
    "игнорировать). Проверьте работу скрипта на нескольких файлах с\n",
    "текстом на английском и русском языках, сравните результаты с\n",
    "таблицами, приведенными в wikipedia.org/wiki/Letter_frequencies.\n",
    "\"\"\"\n",
    "\n",
    "from collections import Counter\n",
    "\n",
    "def get_frequency(filename):\n",
    "    try:\n",
    "        with open(filename, 'r', encoding='utf-8') as file_handler:\n",
    "            text = file_handler.read()\n",
    "            alpha_text = map(lambda x: x.lower(), filter(lambda x: x.isalpha(), text))\n",
    "            \n",
    "            list_text = Counter(alpha_text).items()\n",
    "            result = []\n",
    "\n",
    "            after_point = 1\n",
    "            \n",
    "            while True:\n",
    "                if (1/len(text))*(10**(after_point)) > 1:\n",
    "                    break\n",
    "                else:\n",
    "                    after_point += 1\n",
    "            \n",
    "            for letters, count in list_text:\n",
    "                result.append(f\"{letters} : {round((count / len(text)), after_point)}\")\n",
    "\n",
    "            for i in range(len(result)):\n",
    "                for j in range(len(result)-i-1):\n",
    "                    first_num = float(result[j].split(' ')[-1])\n",
    "                    second_num = float(result[j+1].split(' ')[-1]) \n",
    "\n",
    "                    if first_num < second_num:\n",
    "                        result[j], result[j+1] = result[j+1], result[j]\n",
    "                    \n",
    "            return result\n",
    "        \n",
    "    except IOError:\n",
    "        print(\"An IOError has occurred!\")\n",
    "        return [\"Error\"]\n",
    "\n",
    "# Файл теста содержит одновременно и русские буквы, и латиницу\n",
    "for element in get_frequency('test.txt'):\n",
    "    print(element)"
   ]
  },
  {
   "cell_type": "code",
   "execution_count": 3,
   "id": "1dd3ccc4",
   "metadata": {},
   "outputs": [
    {
     "name": "stdout",
     "output_type": "stream",
     "text": [
      "['reorganize-checkpoint.ipynb', 'Lab_9_Comp.gr._.exe.config', 'Lab_9(Comp. gr.).csproj.AssemblyReference.cache', 'Lab_9(Comp. gr.).csproj.CoreCompileInputs.cache', 'Lab_9(Comp. gr.).csproj.SuggestedBindingRedirects.cache', 'Lab_9_Comp.gr._.mainForm.resources', 'Lab_9_Comp.gr._.Properties.Resources.resources', 'App.config', 'Lab_10_Comp.gr._.exe.config', 'Lab_10(Comp. gr.).csproj.AssemblyReference.cache', 'Lab_10(Comp. gr.).csproj.CoreCompileInputs.cache', 'Lab_10(Comp. gr.).csproj.SuggestedBindingRedirects.cache', 'Lab_10_Comp.gr._.Form1.resources', 'Lab_10_Comp.gr._.Properties.Resources.resources', 'Лекции Охрана труда — копия.pdf', 'Лекции Охрана труда.pdf', 'LAB_1.asm', 'LAB_1.txt', 'LAB_2.asm', 'LAB_2.txt', 'Lab_4 (Var. 5).vcxproj.user', 'Lab_5(Var. 6).vcxproj.user', 'Lab_5(Var. 6)_Q2.vcxproj.user', 'Lab_5(Var. 6)_Q5.vcxproj.user', 'Lab_5_(Var. 6)_Q4.vcxproj.user', 'Lab_6_Comp.gr.Var._5_.exe.config', 'Lab_6(Comp. gr. Var. 5).csproj.AssemblyReference.cache', 'Lab_6(Comp. gr. Var. 5).csproj.CoreCompileInputs.cache', 'Lab_6(Comp. gr. Var. 5).csproj.SuggestedBindingRedirects.cache', 'Lab_6_Comp.gr.Var._5_.Form1.resources', 'Lab_6_Comp.gr.Var._5_.Properties.Resources.resources', 'Lab_6(Var. 6)_Q3.vcxproj.user', 'Lab_7_Comp.gr.Var._5_.exe.config', 'Lab_7(Comp. gr. Var. 5).csproj.AssemblyReference.cache', 'Lab_7(Comp. gr. Var. 5).csproj.CoreCompileInputs.cache', 'Lab_7(Comp. gr. Var. 5).csproj.SuggestedBindingRedirects.cache', 'Lab_7_Comp.gr.Var._5_.Form1.resources', 'Lab_7_Comp.gr.Var._5_.Properties.Resources.resources', 'Lab_8_Comp.gr.Var._5_.exe.config', 'Lab_8(Comp. gr. Var. 5).csproj.AssemblyReference.cache', 'Lab_8(Comp. gr. Var. 5).csproj.CoreCompileInputs.cache', 'Lab_8(Comp. gr. Var. 5).csproj.SuggestedBindingRedirects.cache', 'Lab_8_Comp.gr.Var._5_.Form1.resources', 'Project1.vcxproj.user', 'Test.runtimeconfig.json', 'apphost.exe', 'Test.csproj.AssemblyReference.cache', 'Test.GlobalUsings.g.cs', 'Test.csproj.nuget.g.props', 'Test.csproj.nuget.g.targets', 'Test.csproj', 'TestApp.exe.config', 'TestApp.csproj.CoreCompileInputs.cache', 'TestApp.csproj.SuggestedBindingRedirects.cache', 'TestApp.Form1.resources', 'TestApp.Properties.Resources.resources', 'scripts-START.js', 'awraw.html', '32index-START — копия.html', '32index-START.html', 'Array.runtimeconfig.json', 'Array.csproj.AssemblyReference.cache', 'Array.GlobalUsings.g.cs', 'Array.csproj.nuget.g.props', 'Array.csproj.nuget.g.targets', 'Array.csproj', 'Arrow.runtimeconfig.json', 'Arrow.csproj.AssemblyReference.cache', 'Arrow.GlobalUsings.g.cs', 'Arrow.csproj.nuget.g.props', 'Arrow.csproj.nuget.g.targets', 'Arrow.csproj', 'Calculator.runtimeconfig.json', 'Calculator.csproj.AssemblyReference.cache', 'Calculator.GlobalUsings.g.cs', 'Calculator.csproj.nuget.g.props', 'Calculator.csproj.nuget.g.targets', 'Calculator.csproj', 'EvenAndOddNumbers.runtimeconfig.json', 'EvenAndOddNumbers.csproj.AssemblyReference.cache', 'EvenAndOddNumbers.GlobalUsings.g.cs', 'EvenAndOddNumbers.csproj.nuget.g.props', 'EvenAndOddNumbers.csproj.nuget.g.targets', 'EvenAndOddNumbers.csproj', 'Methods.runtimeconfig.json', 'Method.GlobalUsings.g.cs', 'Methods.GlobalUsings.g.cs', 'Method_1.csproj.AssemblyReference.cache', 'Method_1.GlobalUsings.g.cs', 'Method.csproj.nuget.g.props', 'Method.csproj.nuget.g.targets', 'Methods.csproj.nuget.g.props', 'Methods.csproj.nuget.g.targets', 'Method_1.csproj.nuget.g.props', 'Method_1.csproj.nuget.g.targets', 'Method_1.csproj', 'Method_2.runtimeconfig.json', 'Method_2.csproj.AssemblyReference.cache', 'Method_2.GlobalUsings.g.cs', 'Method_2.csproj.nuget.g.props', 'Method_2.csproj.nuget.g.targets', 'Method_2.csproj', 'Calculator2.csproj.AssemblyReference.cache', 'Calculator2.GlobalUsings.g.cs', 'Program2.csproj.AssemblyReference.cache', 'Program2.GlobalUsings.g.cs', 'Calculator2.csproj.nuget.g.props', 'Calculator2.csproj.nuget.g.targets', 'Program2.csproj.nuget.g.props', 'Program2.csproj.nuget.g.targets', 'Calculator2.csproj', 'Recursion.runtimeconfig.json', 'Recursion.csproj.AssemblyReference.cache', 'Recursion.GlobalUsings.g.cs', 'Recursion.csproj.nuget.g.props', 'Recursion.csproj.nuget.g.targets', 'Recursion.csproj', 'Resize.runtimeconfig.json', 'Resize.csproj.AssemblyReference.cache', 'Resize.GlobalUsings.g.cs', 'Resize.csproj.nuget.g.props', 'Resize.csproj.nuget.g.targets', 'Resize.csproj', 'Listing01_01.runtimeconfig.json', 'Listing01_01.csproj.AssemblyReference.cache', 'Listing01_01.GlobalUsings.g.cs', 'Listing01_01.csproj.nuget.g.props', 'Listing01_01.csproj.nuget.g.targets', 'Listing01_01.csproj', 'Listing01_03.csproj.AssemblyReference.cache', 'Listing01_03.csproj.SuggestedBindingRedirects.cache', 'Listing_1_6.runtimeconfig.json', 'Listing_1_6.csproj.AssemblyReference.cache', 'Listing_1_6.GlobalUsings.g.cs', 'Listing_1_6.csproj.nuget.g.props', 'Listing_1_6.csproj.nuget.g.targets', 'Listing_1_6.csproj', 'Listing_ItProger_VS2022.runtimeconfig.json', 'Listing_ItProger_VS2022.csproj.AssemblyReference.cache', 'Listing_ItProger_VS2022.GlobalUsings.g.cs', 'Listing_ItProger_VS2022.csproj.nuget.g.props', 'Listing_ItProger_VS2022.csproj.nuget.g.targets', 'Listing_ItProger_VS2022.csproj', 'Listing_ItProger_VS2022_1.runtimeconfig.json', 'Listing_ItProger_VS2022_1.csproj.AssemblyReference.cache', 'Listing_ItProger_VS2022_1.GlobalUsings.g.cs', 'Listing_ItProger_VS2022_1.csproj.nuget.g.props', 'Listing_ItProger_VS2022_1.csproj.nuget.g.targets', 'Listing_ItProger_VS2022_1.csproj', 'Listing_ItProger_VS2022_2.runtimeconfig.json', 'Listing_ItProger_VS2022_2.GlobalUsings.g.cs', 'Listing_ItProger_VS2022_2.csproj.nuget.g.props', 'Listing_ItProger_VS2022_2.csproj.nuget.g.targets', 'Listing_ItProger_VS2022_2.csproj', 'SimpleCode_1.exe', 'SimpleCode_1.runtimeconfig.json', 'SimpleCode_1.csproj.AssemblyReference.cache', 'SimpleCode_1.GlobalUsings.g.cs', 'SimpleCode_1.csproj.nuget.g.props', 'SimpleCode_1.csproj.nuget.g.targets', 'SimpleCode_1.csproj', 'main.js', 'Mission01.crw', '05A_Start.crw', '3-0-3.jpg', '3-1-3.jpg', '3-2-3.jpg', '3-3-3.jpg', 'detect-port.cmd', 'detect-port.ps1', 'detect.cmd', 'detect.ps1', 'node-which', 'tailwind', 'tailwind.cmd', 'tailwind.ps1', 'tailwindcss', 'tailwindcss.cmd', 'tailwindcss.ps1', '473c27631e0ed6a042a3c2c8c8f49ad1.json', '7a5383c1c14f23d6b4b145ac4d6ac5db.json', '9bac3ada1ea6a50a694cba949146bf45.json', 'bb44982bc884a92073af49db132e71dc.json', 'e01cdec9736d57d571162eea7bcf68d5.json', 'e271de1914adb6a21d00eb63f79b8d85.json', 'corejs2-built-ins.js', 'LICENSE.BSD', 'built-in-modules.js', 'built-in-modules.json.js', 'built-ins.js', 'built-ins.json.js', 'corejs2-built-ins.json.js', 'Circus.js', 'Config.js', 'Global.js', 'TestResult.js', 'Transform.js', 'function.d.ts', 'object.d.ts', 'set.d.ts', 'a.js', 'b.js', 'empty.js', 'http.d.ts', 'https.d.ts', 'jsx-dev-runtime.d.ts', 'jsx-runtime.d.ts', '.gitkeep', 'allOf.d.ts', 'dependentSchemas.d.ts', 'patternProperties.d.ts', 'prefixItems.d.ts', 'thenElse.d.ts', 'id.d.ts', 'recursiveAnchor.d.ts', 'recursiveRef.d.ts', 'optionalProperties.d.ts', 'union.d.ts', 'limitContains.d.ts', 'limitItems.d.ts', 'limitLength.d.ts', 'limitProperties.d.ts', 'dir.js', 'index.spec.d.ts', 'push.js', 'unshift.js', 'array-buffer-view-core.js', 'array-buffer.js', 'fix-regexp-well-known-symbol-logic.js', 'get-map-iterator.js', 'get-set-iterator.js', 'hidden-keys.js', 'iterators.js', 'regexp-sticky-helpers.js', 'regexp-unsupported-dot-all.js', 'to-offset.js', 'typed-array-constructor.js', 'typed-array-constructors-require-wrappers.js', 'typed-array-from-species-and-list.js', 'typed-array-from.js', 'es.array-buffer.constructor.js', 'es.array-buffer.is-view.js', 'es.array-buffer.slice.js', 'es.data-view.js', 'es.date.to-primitive.js', 'es.date.to-string.js', 'es.error.to-string.js', 'es.function.name.js', 'es.math.to-string-tag.js', 'es.number.constructor.js', 'es.object.proto.js', 'es.object.to-string.js', 'es.reflect.to-string-tag.js', 'es.regexp.dot-all.js', 'es.regexp.exec.js', 'es.regexp.flags.js', 'es.regexp.sticky.js', 'es.regexp.test.js', 'es.regexp.to-string.js', 'es.string.match.js', 'es.string.replace.js', 'es.string.search.js', 'es.string.split.js', 'es.symbol.description.js', 'es.typed-array.at.js', 'es.typed-array.copy-within.js', 'es.typed-array.every.js', 'es.typed-array.fill.js', 'es.typed-array.filter.js', 'es.typed-array.find-index.js', 'es.typed-array.find-last-index.js', 'es.typed-array.find-last.js', 'es.typed-array.find.js', 'es.typed-array.float32-array.js', 'es.typed-array.float64-array.js', 'es.typed-array.for-each.js', 'es.typed-array.from.js', 'es.typed-array.includes.js', 'es.typed-array.index-of.js', 'es.typed-array.int16-array.js', 'es.typed-array.int32-array.js', 'es.typed-array.int8-array.js', 'es.typed-array.iterator.js', 'es.typed-array.join.js', 'es.typed-array.last-index-of.js', 'es.typed-array.map.js', 'es.typed-array.of.js', 'es.typed-array.reduce-right.js', 'es.typed-array.reduce.js', 'es.typed-array.reverse.js', 'es.typed-array.set.js', 'es.typed-array.slice.js', 'es.typed-array.some.js', 'es.typed-array.sort.js', 'es.typed-array.subarray.js', 'es.typed-array.to-locale-string.js', 'es.typed-array.to-string.js', 'es.typed-array.uint16-array.js', 'es.typed-array.uint32-array.js', 'es.typed-array.uint8-array.js', 'es.typed-array.uint8-clamped-array.js', 'esnext.array.last-index.js', 'esnext.array.last-item.js', 'esnext.typed-array.at.js', 'esnext.typed-array.filter-reject.js', 'esnext.typed-array.find-last-index.js', 'esnext.typed-array.find-last.js', 'esnext.typed-array.from-async.js', 'esnext.typed-array.group-by.js', 'esnext.typed-array.to-reversed.js', 'esnext.typed-array.to-sorted.js', 'esnext.typed-array.to-spliced.js', 'esnext.typed-array.unique-by.js', 'esnext.typed-array.with.js', 'web.dom-collections.for-each.js', 'web.url.to-json.js', 'browser-global.js', 'browser.min.js', 'lang.js', 'nth-child.js', 'nth-last-child.js', 'nth-last-of-type.js', 'nth-of-type.js', 'LICENSE.closure-compiler', 'LICENSE.esprima', 'eslint.js', 'doom.js', 'quux.js', 'other-lib.js', 'foo.js', 'mug.coffee', 'mug.js', 'EsLintReporterRpcService.d.ts', 'EsLintReporterOptions.js', 'Formatter.js', 'FormatterOptions.js', 'IssueOptions.js', 'LoggerOptions.js', 'FilesMatch.js', 'Report.js', 'Reporter.js', 'RpcHost.js', 'RpcMessagePort.js', 'RpcProcedure.js', 'vue-template-compiler.js', 'vue__compiler-sfc.js', 'TypeScriptVueExtensionOptions.js', 'TypeScriptExtension.js', 'FileSystem.js', 'TypeScriptReporterRpcService.d.ts', 'TypeScriptConfigurationOverwrite.js', 'TypeScriptDiagnosticsOptions.js', 'TypeScriptReporterOptions.js', 'CompilerWithWatchFileSystem.js', 'WatchFileSystem.js', 'ForkTsCheckerWebpackPluginOptions.js', 'which', 'async-iterators.d.ts', 'database-extras.d.ts', 'immer.esm.js', 'immer.esm.mjs', 'git.d.ts', 'hg.d.ts', 'processChild.d.ts', 'threadChild.d.ts', 'assoc.js', 'assocPath.js', 'dissoc.js', 'dissocPath.js', 'pathEq.js', 'pathOr.js', 'propEq.js', 'propOr.js', 'toJSON.js', 'valueOf.js', 'lint.log', 'margin.d.ts', 'padding.d.ts', 'colornames.d.ts', 'mathfunctions.d.ts', 'animation.d.ts', 'boxShadow.d.ts', 'transition.d.ts', 'css-select-adapter.d.ts', 'jsAPI.d.ts', 'AsymmetricMatcher.d.ts', 'ConvertAnsi.d.ts', 'DOMCollection.d.ts', 'DOMElement.d.ts', 'Immutable.d.ts', 'ReactElement.d.ts', '.env', 'a', 'beans', 'hurp-durp', '123', 'c.txt', 'd.txt', 'foo.bar', 'ignore.txt', 'hi.docx', 'linkedfile.wmf', 'scheduler.production.min.js', 'scheduler.profiling.min.js', 'angular-sprintf.min.js.map', 'angular-sprintf.min.map', 'config-loader.test.d.ts', 'filesystem.test.d.ts', 'mapping-entry.test.d.ts', 'match-path-async.test.d.ts', 'match-path-sync.test.d.ts', 'try-path.test.d.ts', 'tsconfig-loader.test.d.ts', 'uri.all.d.ts', 'uri.all.min.d.ts', 'wss.d.ts', 'polyfill.d.ts', 'AssetGeneratorOptions.check.d.ts', 'AssetInlineGeneratorOptions.check.d.ts', 'AssetParserOptions.check.d.ts', 'AssetResourceGeneratorOptions.check.d.ts', 'ExternalsType.check.d.ts', 'CssGeneratorOptions.check.d.ts', 'CssGeneratorOptions.check.js', 'CssParserOptions.check.d.ts', 'CssParserOptions.check.js', 'OccurrenceChunkIdsPlugin.check.js', 'OccurrenceModuleIdsPlugin.check.js', 'fetch.umd.js.flow', 'fetch.js.flow', '_version.d.ts', '003.txt.bz2', '003私はガラスを食べられます.txt.bz2', 'empty.html', 'panasonic.jpg', 'bug34704.jpg', 'bug34704私はガラスを食べられます.jpg', 'bug48378.jpg', 'bug54002_1.jpg', 'bug54002_2.jpg', 'bug68113.jpg', 'bug68113私はガラスを食べられます.jpg', 'bug72603.jpg', 'redhat-bug1362571.jpg', 'test1.jpg', 'test2.jpg', 'test2私はガラスを食べられます.jpg', 'bug78761_preload.h', 'json1.result', 'json2.result', 'json3.result', 'pgp-binary-key-v4-rsa-key.result', 'pgp-binary-key-v4-rsa-key.testfile', 'pgp-binary-key-v4-rsa-secret-key.result', 'pgp-binary-key-v4-rsa-secret-key.testfile', 'zstd-3-skippable-frames.result', 'zstd-skippable-frame-0.result', 'zstd-skippable-frame-4.result', 'zstd-skippable-frame-8.result', 'zstd-skippable-frame-C.result', 'zstd-v0.2-FF.result', 'zstd-v0.3-FF.result', 'zstd-v0.4-FF.result', 'zstd-v0.8-00.result', 'zstd-v0.8-02.result', 'zstd-v0.8-16.result', 'zstd-v0.8-20.result', 'zstd-v0.8-21.result', 'zstd-v0.8-23.result', 'zstd-v0.8-F4.result', 'zstd-v0.8-FF.result', 'bug71527.magic', 'bug71527私はガラスを食べられます.magic', 'magic', 'magic私はガラスを食べられます', 'bug22544.png', 'bug22544私はガラスを食べられます.png', 'conv_test.jpg', 'conv_test私はガラスを食べられます.jpg', 'girl.avif', 'imagearc_error1.png', 'imagecreatetruecolor_basic.png', 'imagefilledarc_error1.png', 'imagelayereffect_basic.png', 'invalid_neg_size.gd2', 'invalid_neg_size私はガラスを食べられます.gd2', 'libgd00094.xbm', 'libgd00094私はガラスを食べられます.xbm', 'Rochester-Regular.otf.LICENSE.txt', 'src.wbmp', 'src私はガラスを食べられます.wbmp', 'Tuffy.ttf', 'Tuffy私はガラスを食べられます.ttf', 'dgettextTest.mo', 'dgettextTest.po', 'dngettextTest.mo', 'dngettextTest.po', 'bug69753.xml', 'bug69753私はガラスを食べられます.xml', 'CP1251.txt', 'CP1252.txt', 'gh8461-001.inc', 'gh8461-002.inc', 'gh8461-003.inc', 'gh8461-004.inc', 'gh8591-001.inc', 'gh8591-002.inc', 'gh8591-005.inc', 'gh8591-006.inc', 'second.txt', 'fileA', 'fileB', 'file1', 'file2', 'file3', 'openssl.phar.pubkey', 'openssl256.phar.pubkey', 'openssl512.phar.pubkey', 'test79082-testfile', 'test79082-testfile2', 'badalias2.phar.zip', 'badalias3.phar.zip', 'odt.odt', 'sxe.ent', 'sxe.xml', 'sxe私はガラスを食べられます.xml', 'round4_groupG_mimedoc.inc', 'round4_groupG_mimerpc.inc', 'testclass.inc', 'testclass.php.inc', 'CP1251.TXT', 'CP1252.TXT', 'blank_file.bmp', 'test1pix.avif', 'test1pix.jpg', '005.html', '005私はガラスを食べられます.html', '007.html', '013.html', '015.html', 'inc.ent', 'schema-empty.xsd', 'streamsinclude.xsl', '私はガラスを食べられますstreamsinclude.xsl', 'bug40228.zip', 'bug40228私はガラスを食べられます.zip', 'bug7658.odt', '004.txt.gz', '004私はガラスを食べられます.txt.gz', 'php.sym', 'bug34704_2.jpg', 'bug48378.jpeg', 'bug54002_1.jpeg', 'bug54002_2.jpeg', 'bug68113_2.jpg', 'bug72603.jpeg', 'test22.jpg', 'empty.inc', 'echo.inc', 'inc.inc', 'wpspin_light-2x.gif', 'wpspin_light.gif', 'wpspin-2x.gif', 'wpspin.gif', 'reorganize.ipynb', 'safeToDelete.tmp', 'build.xml', 'build.xml.txt', 'RELEASE-NOTES.txt', 'RELEASE-NOTES', '7 Moya-zhizn-moi-dostizheniya-pdf — копия.pdf', '7 Moya-zhizn-moi-dostizheniya-pdf.pdf', 'Переговоры без поражения Фишер — копия.pdf', 'Переговоры без поражения Фишер.pdf']\n"
     ]
    }
   ],
   "source": [
    "\"\"\"\n",
    "Задание №2.\n",
    "Напишите скрипт, позволяющий искать в заданной директории и в ее\n",
    "подпапках файлы-дубликаты на основе сравнения контрольных сумм\n",
    "(MD5). Файлы могут иметь одинаковое содержимое, но отличаться\n",
    "именами. Скрипт должен вывести группы имен обнаруженных файлов-\n",
    "дубликатов.\n",
    "\"\"\"\n",
    "\n",
    "import os\n",
    "from hashlib import md5\n",
    "\n",
    "def specified_directory_duplicate(path):\n",
    "    cash = {}\n",
    "    for root, dirs, files in os.walk(path, topdown=False):\n",
    "        for name in files:\n",
    "            with open(os.path.join(root, name), 'rb') as f:\n",
    "                cash[name] = md5(f.read()).hexdigest()\n",
    "    return cash\n",
    "\n",
    "\n",
    "def find_duplicate(dictionaries):\n",
    "    result = []\n",
    "    for first_key, first_value in dictionaries.items():\n",
    "        for second_key, second_value in dictionaries.items():\n",
    "            if first_value == second_value and first_key != second_key and first_key not in result:\n",
    "                result.append(first_key)\n",
    "                continue\n",
    "    return result\n",
    "\n",
    "#Main function\n",
    "print(find_duplicate(specified_directory_duplicate('./'))) # './' - root folder"
   ]
  },
  {
   "cell_type": "code",
   "execution_count": 4,
   "id": "2775b5fa",
   "metadata": {},
   "outputs": [],
   "source": [
    "\"\"\"\n",
    "Задание №3.\n",
    "Задан путь к директории с музыкальными файлами (в названии\n",
    "которых нет номеров, а только названия песен) и текстовый файл,\n",
    "хранящий полный список песен с номерами и названиями в виде строк\n",
    "формата «01. Freefall [6:12]». Напишите скрипт, который корректирует\n",
    "имена файлов в директории на основе текста списка песен.\n",
    "\"\"\"\n",
    "\n",
    "import os\n",
    "\n",
    "def fomated_music_name(path, file):\n",
    "    try:\n",
    "        with open(file, 'r', encoding='utf-8') as file_handler:\n",
    "            for line in file_handler:\n",
    "                for dirpath, dirnames, filenames  in os.walk(path):\n",
    "                    for name in filenames:\n",
    "                        if ' '.join(line.split(' ')[1:-1]) == name.split('.')[0]:\n",
    "                            number = line.split(' ')[0]\n",
    "                            new_name = number + \" \" + name\n",
    "                            os.rename(os.path.join(dirpath, name), os.path.join(dirpath, new_name))\n",
    "    except IOError:\n",
    "        print(\"An IOError has occurred!\")\n",
    "\n",
    "# Main function\n",
    "fomated_music_name(r'C:\\Users\\Raviolka\\Music\\Lab_2', 'lab_2_music.txt')"
   ]
  },
  {
   "cell_type": "code",
   "execution_count": 5,
   "id": "3eb11f8c",
   "metadata": {},
   "outputs": [
    {
     "name": "stdout",
     "output_type": "stream",
     "text": [
      "Строка 1, позиция  187 : найдено '(071)1234567'\n",
      "Строка 1, позиция  243 : найдено '(424)2135256'\n",
      "Строка 1, позиция   57 : найдено '(324)423-52-21'\n",
      "Строка 2, позиция   66 : найдено '(042)4245346'\n",
      "Строка 2, позиция 1782 : найдено '(071)1234567'\n",
      "Строка 2, позиция 1838 : найдено '(424)2135256'\n",
      "Строка 2, позиция 1652 : найдено '(324)423-52-21'\n",
      "Строка 3, позиция   66 : найдено '(042)4245346'\n"
     ]
    }
   ],
   "source": [
    "\"\"\"\n",
    "Задание №4.\n",
    "Напишите скрипт, который позволяет ввести с клавиатуры имя\n",
    "текстового файла, найти в нем с помощью регулярных выражений все\n",
    "подстроки определенного вида, в соответствии с вариантом. Например,\n",
    "для варианта № 1 скрипт должен вывести на экран следующее:\n",
    "\"\"\"\n",
    "\n",
    "from re import findall\n",
    "from numpy import log as ln\n",
    "\n",
    "def regex_substrings(filename):\n",
    "    with open(filename, 'r', encoding='utf-8') as file_handler:\n",
    "        for line_number, line in enumerate(file_handler):\n",
    "            required = findall(r'\\(\\d{3}\\)\\d{7}', line)\n",
    "            required += findall(r'\\(\\d{3}\\)\\d{3}-\\d{2}-\\d{2}', line)\n",
    "            count_out = int((ln(len(line))/ln(10))+1)\n",
    "            \n",
    "            for i in range(len(required)):\n",
    "                print(f\"Строка {line_number + 1}, позиция {line.find(required[i]):{count_out}} : найдено '{required[i]}'\")\n",
    "\n",
    "#Main function\n",
    "regex_substrings('test_regex.txt')"
   ]
  },
  {
   "cell_type": "code",
   "execution_count": 9,
   "id": "22ed5e39",
   "metadata": {},
   "outputs": [
    {
     "name": "stdout",
     "output_type": "stream",
     "text": [
      "Enter any text: Hello! My name is Karamy or Jaramy32 , Good for key body just Bordered324 ponder3245 no BButterfly21 yes Honye3245 for gGsdsf3245\n",
      "\n",
      "Result:\n",
      "Jaramy32\n",
      "Honye3245\n"
     ]
    }
   ],
   "source": [
    "\"\"\"\n",
    "Задание №5.\n",
    "Введите с клавиатуры текст. Программно найдите в нем и выведите\n",
    "отдельно все слова, которые начинаются с большого латинского\n",
    "символа (от A до Z) и заканчиваются 2 или 4 цифрами, например\n",
    "«Petr93», «Johnny70», «Service2002». Используйте регулярные\n",
    "выражения.\n",
    "\"\"\"\n",
    "from re import findall\n",
    "\n",
    "line = input(\"Enter any text: \")\n",
    "\n",
    "# Test text = Hello! My name is Karamy or Jaramy32 , Good for key body just Bordered324 ponder3245 no BButterfly21 yes Honye3245 for gGsdsf3245\n",
    "result = findall(r'(\\b[A-Z][a-z]+\\d{2}\\b)|(\\b[A-Z][a-z]+\\d{4}\\b)', line)\n",
    "\n",
    "print(\"\\nResult:\")\n",
    "for it_arr in result:\n",
    "    for it in it_arr:\n",
    "        if it != '':\n",
    "            print(it)"
   ]
  },
  {
   "cell_type": "code",
   "execution_count": 11,
   "id": "04b104e6",
   "metadata": {},
   "outputs": [
    {
     "data": {
      "text/plain": [
       "'\\nЗадание №6.\\nНапишите скрипт reorganize.py, который в директории --source создает\\nдве директории: Archive и Small. В первую директорию помещаются\\nфайлы с датой изменения, отличающейся от текущей даты на\\nколичество дней более параметра --days (т.е. относительно старые\\nфайлы). Во вторую – все файлы размером меньше параметра --size байт.\\nКаждая директория должна создаваться только в случае, если найден\\nхотя бы один файл, который должен быть в нее помещен. Пример\\nвызова:\\n'"
      ]
     },
     "execution_count": 11,
     "metadata": {},
     "output_type": "execute_result"
    }
   ],
   "source": [
    "\"\"\"\n",
    "Задание №6.\n",
    "Напишите скрипт reorganize.py, который в директории --source создает\n",
    "две директории: Archive и Small. В первую директорию помещаются\n",
    "файлы с датой изменения, отличающейся от текущей даты на\n",
    "количество дней более параметра --days (т.е. относительно старые\n",
    "файлы). Во вторую – все файлы размером меньше параметра --size байт.\n",
    "Каждая директория должна создаваться только в случае, если найден\n",
    "хотя бы один файл, который должен быть в нее помещен. Пример\n",
    "вызова:\n",
    "\"\"\"\n",
    "\n",
    "# Файл приложен к лаб. работе\n",
    "\n",
    "# import time, sys, os\n",
    "# time_Unix = time.time()\n",
    "\n",
    "# def reorgaize(argv):\n",
    "#     if argv[1] == '--source' and argv[3] == '--days' and argv[5] == '--size':\n",
    "#         for _, _, files in os.walk(argv[2]):\n",
    "#             for name in files:\n",
    "\n",
    "#                 path_to_file = argv[2] + f\"\\{name}\"\n",
    "                \n",
    "#                 try:\n",
    "#                     if os.stat(path_to_file).st_size < int(argv[6]):\n",
    "#                         dir_name = argv[2] + \"\\Small\"\n",
    "#                         try:\n",
    "#                             os.mkdir(dir_name)\n",
    "#                         except FileExistsError:\n",
    "#                             pass\n",
    "#                         os.replace(path_to_file, dir_name + f\"\\{name}\")\n",
    "#                         continue\n",
    "\n",
    "#                     if os.path.getmtime(path_to_file) < (time_Unix - (float(argv[4])*86400)):\n",
    "#                         dir_name = argv[2] + \"\\Archive\"\n",
    "#                         try:\n",
    "#                             os.mkdir(dir_name)\n",
    "#                         except FileExistsError:\n",
    "#                             pass\n",
    "#                         os.replace(path_to_file, dir_name + f\"\\{name}\")\n",
    "#                 except FileNotFoundError:\n",
    "#                     pass\n",
    "\n",
    "                    \n",
    "# reorgaize([\" \", '--source', ])\n"
   ]
  },
  {
   "cell_type": "code",
   "execution_count": 12,
   "id": "1018877d",
   "metadata": {},
   "outputs": [],
   "source": [
    "%run reorganize --source \"C:\\Users\\Raviolka\\Downloads\" --days 2 --size 8192 \"C:\\Users\\Raviolka\\Documents\\reorganize.py\""
   ]
  },
  {
   "cell_type": "code",
   "execution_count": 13,
   "id": "6543dae3",
   "metadata": {},
   "outputs": [
    {
     "data": {
      "text/plain": [
       "'\\nЗадание №7.\\nНаписать скрипт trackmix.py, который формирует обзорный трек-микс\\nальбома (попурри из коротких фрагментов mp3-файлов в\\nпользовательской директории). Для манипуляций со звуковыми\\nфайлами можно использовать сторонние утилиты, например, FFmpeg.\\nПример вызова и работы скрипта:\\n'"
      ]
     },
     "execution_count": 13,
     "metadata": {},
     "output_type": "execute_result"
    }
   ],
   "source": [
    "\"\"\"\n",
    "Задание №7.\n",
    "Написать скрипт trackmix.py, который формирует обзорный трек-микс\n",
    "альбома (попурри из коротких фрагментов mp3-файлов в\n",
    "пользовательской директории). Для манипуляций со звуковыми\n",
    "файлами можно использовать сторонние утилиты, например, FFmpeg.\n",
    "Пример вызова и работы скрипта:\n",
    "\"\"\""
   ]
  },
  {
   "cell_type": "code",
   "execution_count": 1,
   "id": "96ac696c",
   "metadata": {},
   "outputs": [],
   "source": []
  },
  {
   "cell_type": "code",
   "execution_count": null,
   "id": "b08f6a45",
   "metadata": {},
   "outputs": [],
   "source": []
  }
 ],
 "metadata": {
  "kernelspec": {
   "display_name": "Python 3 (ipykernel)",
   "language": "python",
   "name": "python3"
  },
  "language_info": {
   "codemirror_mode": {
    "name": "ipython",
    "version": 3
   },
   "file_extension": ".py",
   "mimetype": "text/x-python",
   "name": "python",
   "nbconvert_exporter": "python",
   "pygments_lexer": "ipython3",
   "version": "3.9.13"
  }
 },
 "nbformat": 4,
 "nbformat_minor": 5
}
